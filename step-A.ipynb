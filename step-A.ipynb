{
 "cells": [
  {
   "cell_type": "markdown",
   "metadata": {},
   "source": [
    "这个程序好像是在终端执行的，只是有些演示在notebook中执行。因为我这边没有终端环境，只有Docker。所以在这里建立notebook，以尝试模拟终端效果。"
   ]
  },
  {
   "cell_type": "code",
   "execution_count": 4,
   "metadata": {},
   "outputs": [
    {
     "name": "stdout",
     "output_type": "stream",
     "text": [
      "Reading package lists... Done\n",
      "Building dependency tree       \n",
      "Reading state information... Done\n",
      "xsel is already the newest version (1.2.0-2).\n",
      "0 upgraded, 0 newly installed, 0 to remove and 101 not upgraded.\n"
     ]
    }
   ],
   "source": [
    "! sudo apt install xsel"
   ]
  },
  {
   "cell_type": "code",
   "execution_count": 1,
   "metadata": {},
   "outputs": [
    {
     "name": "stdout",
     "output_type": "stream",
     "text": [
      "Collecting pyperclip\n",
      "  Downloading https://files.pythonhosted.org/packages/5b/06/86e3c6a55cacef0e4ec7c25379ff7fcd1a88fd939ecefd442b535c792fa4/pyperclip-1.6.0.tar.gz\n",
      "Building wheels for collected packages: pyperclip\n",
      "  Running setup.py bdist_wheel for pyperclip ... \u001b[?25ldone\n",
      "\u001b[?25h  Stored in directory: /home/jovyan/.cache/pip/wheels/a7/68/ef/ab1ef01625334f10a979e9fe5ef79e1c4fd4cdf4b710a0067b\n",
      "Successfully built pyperclip\n",
      "\u001b[31mtensorflow 1.3.0 requires tensorflow-tensorboard<0.2.0,>=0.1.0, which is not installed.\u001b[0m\n",
      "\u001b[31mipywidgets 7.0.5 has requirement widgetsnbextension~=3.0.0, but you'll have widgetsnbextension 3.1.3 which is incompatible.\u001b[0m\n",
      "Installing collected packages: pyperclip\n",
      "Successfully installed pyperclip-1.6.0\n"
     ]
    }
   ],
   "source": [
    "! pip install pyperclip"
   ]
  },
  {
   "cell_type": "code",
   "execution_count": null,
   "metadata": {},
   "outputs": [
    {
     "name": "stdout",
     "output_type": "stream",
     "text": [
      "===== n_labels ===== 1968\n",
      "2018-05-15 07:51:08,320@chess_zero.manager INFO # config type: mini\n",
      "Using TensorFlow backend.\n",
      "2018-05-15 07:51:09.970215: W tensorflow/core/platform/cpu_feature_guard.cc:45] The TensorFlow library wasn't compiled to use SSE4.1 instructions, but these are available on your machine and could speed up CPU computations.\n",
      "2018-05-15 07:51:09.970264: W tensorflow/core/platform/cpu_feature_guard.cc:45] The TensorFlow library wasn't compiled to use SSE4.2 instructions, but these are available on your machine and could speed up CPU computations.\n",
      "2018-05-15 07:51:10,454@chess_zero.agent.model_chess DEBUG # loading model from /home/jovyan/work/chess-alpha-zero/data/model/model_best_config.json\n",
      "2018-05-15 07:51:13,163@chess_zero.agent.model_chess DEBUG # loaded model digest = ad5a6bbf93ca8130b9130f32d3d44c3de2b5d92f80d64e9dd1f40d6d1edd7b24\n",
      "Using TensorFlow backend.\n",
      "Using TensorFlow backend.\n",
      "Using TensorFlow backend.\n",
      "2018-05-15 07:51:15.379357: W tensorflow/core/platform/cpu_feature_guard.cc:45] The TensorFlow library wasn't compiled to use SSE4.1 instructions, but these are available on your machine and could speed up CPU computations.\n",
      "2018-05-15 07:51:15.379408: W tensorflow/core/platform/cpu_feature_guard.cc:45] The TensorFlow library wasn't compiled to use SSE4.2 instructions, but these are available on your machine and could speed up CPU computations.\n",
      "2018-05-15 07:51:15.431443: W tensorflow/core/platform/cpu_feature_guard.cc:45] The TensorFlow library wasn't compiled to use SSE4.1 instructions, but these are available on your machine and could speed up CPU computations.\n",
      "2018-05-15 07:51:15.431491: W tensorflow/core/platform/cpu_feature_guard.cc:45] The TensorFlow library wasn't compiled to use SSE4.2 instructions, but these are available on your machine and could speed up CPU computations.\n",
      "2018-05-15 07:51:15.463558: W tensorflow/core/platform/cpu_feature_guard.cc:45] The TensorFlow library wasn't compiled to use SSE4.1 instructions, but these are available on your machine and could speed up CPU computations.\n",
      "2018-05-15 07:51:15.463605: W tensorflow/core/platform/cpu_feature_guard.cc:45] The TensorFlow library wasn't compiled to use SSE4.2 instructions, but these are available on your machine and could speed up CPU computations.\n",
      "===== n_labels ===== 1968\n",
      "===== n_labels ===== 1968\n",
      "===== n_labels ===== 1968\n",
      "game   1 time=841.0s halfmoves= 85 Winner.white by resign \n"
     ]
    }
   ],
   "source": [
    "!python src/chess_zero/run.py self\n",
    "\n",
    "# error:     Pyperclip could not find a copy/paste mechanism for your system.\n",
    "# after run the previous env preparation then restart container, show this:\n",
    "# game   1 time=841.0s halfmoves= 85 Winner.white by resign \n"
   ]
  },
  {
   "cell_type": "code",
   "execution_count": null,
   "metadata": {},
   "outputs": [],
   "source": []
  },
  {
   "cell_type": "code",
   "execution_count": null,
   "metadata": {},
   "outputs": [],
   "source": []
  }
 ],
 "metadata": {
  "kernelspec": {
   "display_name": "Python 3",
   "language": "python",
   "name": "python3"
  },
  "language_info": {
   "codemirror_mode": {
    "name": "ipython",
    "version": 3
   },
   "file_extension": ".py",
   "mimetype": "text/x-python",
   "name": "python",
   "nbconvert_exporter": "python",
   "pygments_lexer": "ipython3",
   "version": "3.6.3"
  }
 },
 "nbformat": 4,
 "nbformat_minor": 2
}
